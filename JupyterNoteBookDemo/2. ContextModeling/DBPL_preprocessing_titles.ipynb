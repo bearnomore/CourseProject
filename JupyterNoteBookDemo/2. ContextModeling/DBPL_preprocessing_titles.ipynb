{
 "cells": [
  {
   "cell_type": "code",
   "execution_count": 1,
   "metadata": {},
   "outputs": [],
   "source": [
    "import nltk\n",
    "from nltk.stem import PorterStemmer\n",
    "from nltk.corpus import stopwords\n",
    "from nltk.tokenize import RegexpTokenizer\n",
    "import pandas as pd"
   ]
  },
  {
   "cell_type": "code",
   "execution_count": 2,
   "metadata": {},
   "outputs": [
    {
     "data": {
      "text/html": [
       "<div>\n",
       "<style scoped>\n",
       "    .dataframe tbody tr th:only-of-type {\n",
       "        vertical-align: middle;\n",
       "    }\n",
       "\n",
       "    .dataframe tbody tr th {\n",
       "        vertical-align: top;\n",
       "    }\n",
       "\n",
       "    .dataframe thead th {\n",
       "        text-align: right;\n",
       "    }\n",
       "</style>\n",
       "<table border=\"1\" class=\"dataframe\">\n",
       "  <thead>\n",
       "    <tr style=\"text-align: right;\">\n",
       "      <th></th>\n",
       "      <th>author</th>\n",
       "      <th>title</th>\n",
       "    </tr>\n",
       "  </thead>\n",
       "  <tbody>\n",
       "    <tr>\n",
       "      <th>0</th>\n",
       "      <td>Lothar Breuer</td>\n",
       "      <td>operator-geometric solutions for the m/g/k que...</td>\n",
       "    </tr>\n",
       "    <tr>\n",
       "      <th>1</th>\n",
       "      <td>Christopher Lusena, Judy Goldsmith, Martin Mun...</td>\n",
       "      <td>nonapproximability results for partially obser...</td>\n",
       "    </tr>\n",
       "    <tr>\n",
       "      <th>2</th>\n",
       "      <td>János Komlós, Ali Shokoufandeh, Miklós Simonov...</td>\n",
       "      <td>the regularity lemma and its applications in g...</td>\n",
       "    </tr>\n",
       "    <tr>\n",
       "      <th>3</th>\n",
       "      <td>Vijay V. Vazirani</td>\n",
       "      <td>primal-dual schema based approximation algorit...</td>\n",
       "    </tr>\n",
       "    <tr>\n",
       "      <th>4</th>\n",
       "      <td>Isabel Fernández-Anta, Eva Millán, José-Luis P...</td>\n",
       "      <td>adaptation and generation in a web-based lisp ...</td>\n",
       "    </tr>\n",
       "  </tbody>\n",
       "</table>\n",
       "</div>"
      ],
      "text/plain": [
       "                                              author  \\\n",
       "0                                      Lothar Breuer   \n",
       "1  Christopher Lusena, Judy Goldsmith, Martin Mun...   \n",
       "2  János Komlós, Ali Shokoufandeh, Miklós Simonov...   \n",
       "3                                  Vijay V. Vazirani   \n",
       "4  Isabel Fernández-Anta, Eva Millán, José-Luis P...   \n",
       "\n",
       "                                               title  \n",
       "0  operator-geometric solutions for the m/g/k que...  \n",
       "1  nonapproximability results for partially obser...  \n",
       "2  the regularity lemma and its applications in g...  \n",
       "3  primal-dual schema based approximation algorit...  \n",
       "4  adaptation and generation in a web-based lisp ...  "
      ]
     },
     "execution_count": 2,
     "metadata": {},
     "output_type": "execute_result"
    }
   ],
   "source": [
    "# Load parsed DBLP2000 and turn all title into lower case\n",
    "path = \"E:/CS_Master_Degree_UIUC/CS410_Text_Information_system/Project/Project Submission/CourseProject/Dataset/\" # File location\n",
    "dblp2000 = pd.read_csv(path + \"DBLP2000.csv\")\n",
    "dblp2000[\"title\"] = dblp2000[\"title\"].str.lower()\n",
    "dblp2000.head()"
   ]
  },
  {
   "cell_type": "markdown",
   "metadata": {},
   "source": [
    "### The titles of the DBLP2000 dataset would be stemmed and processed to remove common words. "
   ]
  },
  {
   "cell_type": "code",
   "execution_count": 3,
   "metadata": {},
   "outputs": [],
   "source": [
    "# Tokenization\n",
    "\n",
    "def identify_tokens(row):\n",
    "    title = row['title'].lower()\n",
    "    tokens = nltk.word_tokenize(title)\n",
    "    # taken only words (not punctuation)\n",
    "    token_words = [w for w in tokens if w.isalpha()]\n",
    "    return token_words\n",
    "\n",
    "dblp2000['words'] = dblp2000.apply(lambda x: identify_tokens(x), axis=1)"
   ]
  },
  {
   "cell_type": "code",
   "execution_count": 4,
   "metadata": {},
   "outputs": [],
   "source": [
    "# Stop words removal, there are lots of german publications in the DBLP dataset, \n",
    "# thus the stopwords list includes both English and German.\n",
    "stops = set(stopwords.words([\"english\", \"german\"]))                  \n",
    "\n",
    "def remove_stops(row):\n",
    "    my_list = row['words']\n",
    "    meaningful_words = [w for w in my_list if not w in stops]\n",
    "    return (meaningful_words)\n",
    "\n",
    "dblp2000['meaningful'] = dblp2000.apply(lambda x:remove_stops(x), axis=1)"
   ]
  },
  {
   "cell_type": "code",
   "execution_count": 5,
   "metadata": {},
   "outputs": [],
   "source": [
    "# Stemming\n",
    "stemming = PorterStemmer()\n",
    "\n",
    "def stem_list(row):\n",
    "    my_list = row['meaningful']\n",
    "    stemmed_list = [stemming.stem(word) for word in my_list]\n",
    "    return (stemmed_list)\n",
    "\n",
    "dblp2000['meaningful_stemmed_words'] = dblp2000.apply(lambda x: stem_list(x), axis=1)"
   ]
  },
  {
   "cell_type": "code",
   "execution_count": 6,
   "metadata": {},
   "outputs": [
    {
     "data": {
      "text/html": [
       "<div>\n",
       "<style scoped>\n",
       "    .dataframe tbody tr th:only-of-type {\n",
       "        vertical-align: middle;\n",
       "    }\n",
       "\n",
       "    .dataframe tbody tr th {\n",
       "        vertical-align: top;\n",
       "    }\n",
       "\n",
       "    .dataframe thead th {\n",
       "        text-align: right;\n",
       "    }\n",
       "</style>\n",
       "<table border=\"1\" class=\"dataframe\">\n",
       "  <thead>\n",
       "    <tr style=\"text-align: right;\">\n",
       "      <th></th>\n",
       "      <th>author</th>\n",
       "      <th>title</th>\n",
       "      <th>words</th>\n",
       "      <th>meaningful</th>\n",
       "      <th>meaningful_stemmed_words</th>\n",
       "    </tr>\n",
       "  </thead>\n",
       "  <tbody>\n",
       "    <tr>\n",
       "      <th>0</th>\n",
       "      <td>Lothar Breuer</td>\n",
       "      <td>operator-geometric solutions for the m/g/k que...</td>\n",
       "      <td>[solutions, for, the, queue, and, its, variants]</td>\n",
       "      <td>[solutions, queue, variants]</td>\n",
       "      <td>[solut, queue, variant]</td>\n",
       "    </tr>\n",
       "    <tr>\n",
       "      <th>1</th>\n",
       "      <td>Christopher Lusena, Judy Goldsmith, Martin Mun...</td>\n",
       "      <td>nonapproximability results for partially obser...</td>\n",
       "      <td>[nonapproximability, results, for, partially, ...</td>\n",
       "      <td>[nonapproximability, results, partially, obser...</td>\n",
       "      <td>[nonapproxim, result, partial, observ, markov,...</td>\n",
       "    </tr>\n",
       "    <tr>\n",
       "      <th>2</th>\n",
       "      <td>János Komlós, Ali Shokoufandeh, Miklós Simonov...</td>\n",
       "      <td>the regularity lemma and its applications in g...</td>\n",
       "      <td>[the, regularity, lemma, and, its, application...</td>\n",
       "      <td>[regularity, lemma, applications, graph, theory]</td>\n",
       "      <td>[regular, lemma, applic, graph, theori]</td>\n",
       "    </tr>\n",
       "    <tr>\n",
       "      <th>3</th>\n",
       "      <td>Vijay V. Vazirani</td>\n",
       "      <td>primal-dual schema based approximation algorit...</td>\n",
       "      <td>[schema, based, approximation, algorithms]</td>\n",
       "      <td>[schema, based, approximation, algorithms]</td>\n",
       "      <td>[schema, base, approxim, algorithm]</td>\n",
       "    </tr>\n",
       "    <tr>\n",
       "      <th>4</th>\n",
       "      <td>Isabel Fernández-Anta, Eva Millán, José-Luis P...</td>\n",
       "      <td>adaptation and generation in a web-based lisp ...</td>\n",
       "      <td>[adaptation, and, generation, in, a, lisp, tutor]</td>\n",
       "      <td>[adaptation, generation, lisp, tutor]</td>\n",
       "      <td>[adapt, gener, lisp, tutor]</td>\n",
       "    </tr>\n",
       "  </tbody>\n",
       "</table>\n",
       "</div>"
      ],
      "text/plain": [
       "                                              author  \\\n",
       "0                                      Lothar Breuer   \n",
       "1  Christopher Lusena, Judy Goldsmith, Martin Mun...   \n",
       "2  János Komlós, Ali Shokoufandeh, Miklós Simonov...   \n",
       "3                                  Vijay V. Vazirani   \n",
       "4  Isabel Fernández-Anta, Eva Millán, José-Luis P...   \n",
       "\n",
       "                                               title  \\\n",
       "0  operator-geometric solutions for the m/g/k que...   \n",
       "1  nonapproximability results for partially obser...   \n",
       "2  the regularity lemma and its applications in g...   \n",
       "3  primal-dual schema based approximation algorit...   \n",
       "4  adaptation and generation in a web-based lisp ...   \n",
       "\n",
       "                                               words  \\\n",
       "0   [solutions, for, the, queue, and, its, variants]   \n",
       "1  [nonapproximability, results, for, partially, ...   \n",
       "2  [the, regularity, lemma, and, its, application...   \n",
       "3         [schema, based, approximation, algorithms]   \n",
       "4  [adaptation, and, generation, in, a, lisp, tutor]   \n",
       "\n",
       "                                          meaningful  \\\n",
       "0                       [solutions, queue, variants]   \n",
       "1  [nonapproximability, results, partially, obser...   \n",
       "2   [regularity, lemma, applications, graph, theory]   \n",
       "3         [schema, based, approximation, algorithms]   \n",
       "4              [adaptation, generation, lisp, tutor]   \n",
       "\n",
       "                            meaningful_stemmed_words  \n",
       "0                            [solut, queue, variant]  \n",
       "1  [nonapproxim, result, partial, observ, markov,...  \n",
       "2            [regular, lemma, applic, graph, theori]  \n",
       "3                [schema, base, approxim, algorithm]  \n",
       "4                        [adapt, gener, lisp, tutor]  "
      ]
     },
     "execution_count": 6,
     "metadata": {},
     "output_type": "execute_result"
    }
   ],
   "source": [
    "dblp2000.head()"
   ]
  },
  {
   "cell_type": "code",
   "execution_count": 7,
   "metadata": {},
   "outputs": [
    {
     "data": {
      "text/plain": [
       "0                                     solut queue variant\n",
       "1       nonapproxim result partial observ markov decis...\n",
       "2                       regular lemma applic graph theori\n",
       "3                          schema base approxim algorithm\n",
       "4                                  adapt gener lisp tutor\n",
       "                              ...                        \n",
       "3999            probabilist algorithm effici grasp fixtur\n",
       "4000                          arachnoid tourist hindsight\n",
       "4001            domain name exchang share registri system\n",
       "4002          jatlit java agent infrastructur messag rout\n",
       "4003                             interact engin interoper\n",
       "Name: meaningful_stemmed_words, Length: 4004, dtype: object"
      ]
     },
     "execution_count": 7,
     "metadata": {},
     "output_type": "execute_result"
    }
   ],
   "source": [
    "# The processed titles in \"meaningful_stemmed_words\" column \n",
    "# would be saved as the txt file for the next sequential pattern discovery using prefixspan algorithm in PySpark. \n",
    "title_seq = dblp2000['meaningful_stemmed_words'].apply(lambda x: ' '.join(x))\n",
    "title_seq"
   ]
  },
  {
   "cell_type": "code",
   "execution_count": null,
   "metadata": {},
   "outputs": [],
   "source": [
    "output_path = 'E:/CS_Master_Degree_UIUC/CS410_Text_Information_system/Project/Project Submission/CourseProject/Dataset/'\n",
    "title_seq.to_csv(output_path+\"DBLP2000_preprocessed_titles.txt\", header = False, index = False)"
   ]
  },
  {
   "cell_type": "code",
   "execution_count": null,
   "metadata": {},
   "outputs": [],
   "source": []
  }
 ],
 "metadata": {
  "kernelspec": {
   "display_name": "Python 3",
   "language": "python",
   "name": "python3"
  },
  "language_info": {
   "codemirror_mode": {
    "name": "ipython",
    "version": 3
   },
   "file_extension": ".py",
   "mimetype": "text/x-python",
   "name": "python",
   "nbconvert_exporter": "python",
   "pygments_lexer": "ipython3",
   "version": "3.6.5"
  }
 },
 "nbformat": 4,
 "nbformat_minor": 2
}
