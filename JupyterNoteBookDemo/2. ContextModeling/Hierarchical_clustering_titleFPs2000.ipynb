{
 "cells": [
  {
   "cell_type": "code",
   "execution_count": 1,
   "metadata": {},
   "outputs": [],
   "source": [
    "import pandas as pd\n",
    "import numpy as np\n",
    "import scipy.cluster as cluster\n",
    "import scipy.spatial.distance as ssd\n",
    "import time\n",
    "from matplotlib import pyplot as plt"
   ]
  },
  {
   "cell_type": "code",
   "execution_count": 2,
   "metadata": {},
   "outputs": [],
   "source": [
    "path = \"E:/CS_Master_Degree_UIUC/CS410_Text_Information_system/Project/Project Submission/CourseProject/Dataset/\"\n",
    "titleFPs = pd.read_csv(path + \"titlesFP2000_with_index.csv\")"
   ]
  },
  {
   "cell_type": "code",
   "execution_count": 3,
   "metadata": {},
   "outputs": [
    {
     "data": {
      "text/html": [
       "<div>\n",
       "<style scoped>\n",
       "    .dataframe tbody tr th:only-of-type {\n",
       "        vertical-align: middle;\n",
       "    }\n",
       "\n",
       "    .dataframe tbody tr th {\n",
       "        vertical-align: top;\n",
       "    }\n",
       "\n",
       "    .dataframe thead th {\n",
       "        text-align: right;\n",
       "    }\n",
       "</style>\n",
       "<table border=\"1\" class=\"dataframe\">\n",
       "  <thead>\n",
       "    <tr style=\"text-align: right;\">\n",
       "      <th></th>\n",
       "      <th>title_pattern</th>\n",
       "      <th>Freq</th>\n",
       "      <th>transaction_index</th>\n",
       "    </tr>\n",
       "  </thead>\n",
       "  <tbody>\n",
       "    <tr>\n",
       "      <th>449</th>\n",
       "      <td>system</td>\n",
       "      <td>372</td>\n",
       "      <td>[13, 30, 46, 48, 55, 70, 79, 87, 88, 99, 100, ...</td>\n",
       "    </tr>\n",
       "    <tr>\n",
       "      <th>284</th>\n",
       "      <td>use</td>\n",
       "      <td>354</td>\n",
       "      <td>[8, 9, 41, 53, 79, 83, 86, 89, 92, 95, 101, 11...</td>\n",
       "    </tr>\n",
       "    <tr>\n",
       "      <th>675</th>\n",
       "      <td>model</td>\n",
       "      <td>298</td>\n",
       "      <td>[8, 52, 64, 111, 151, 153, 159, 177, 183, 185,...</td>\n",
       "    </tr>\n",
       "    <tr>\n",
       "      <th>676</th>\n",
       "      <td>network</td>\n",
       "      <td>208</td>\n",
       "      <td>[85, 118, 175, 180, 200, 243, 250, 252, 266, 2...</td>\n",
       "    </tr>\n",
       "    <tr>\n",
       "      <th>1053</th>\n",
       "      <td>algorithm</td>\n",
       "      <td>190</td>\n",
       "      <td>[3, 14, 32, 38, 75, 80, 88, 98, 155, 167, 170,...</td>\n",
       "    </tr>\n",
       "    <tr>\n",
       "      <th>...</th>\n",
       "      <td>...</td>\n",
       "      <td>...</td>\n",
       "      <td>...</td>\n",
       "    </tr>\n",
       "    <tr>\n",
       "      <th>1451</th>\n",
       "      <td>video segment</td>\n",
       "      <td>4</td>\n",
       "      <td>[1001, 1200, 1938, 1976, 1979]</td>\n",
       "    </tr>\n",
       "    <tr>\n",
       "      <th>1452</th>\n",
       "      <td>video sequenc</td>\n",
       "      <td>4</td>\n",
       "      <td>[1032, 1083, 1113, 3088, 3766]</td>\n",
       "    </tr>\n",
       "    <tr>\n",
       "      <th>805</th>\n",
       "      <td>way</td>\n",
       "      <td>4</td>\n",
       "      <td>[68, 697, 763, 2208, 2222, 2360, 2479, 2964, 3...</td>\n",
       "    </tr>\n",
       "    <tr>\n",
       "      <th>1456</th>\n",
       "      <td>activ system</td>\n",
       "      <td>4</td>\n",
       "      <td>[350, 571, 915, 1209, 1223, 1935, 1988, 2347, ...</td>\n",
       "    </tr>\n",
       "    <tr>\n",
       "      <th>1543</th>\n",
       "      <td>algorithm approach</td>\n",
       "      <td>4</td>\n",
       "      <td>[178, 2635, 3172, 3307]</td>\n",
       "    </tr>\n",
       "  </tbody>\n",
       "</table>\n",
       "<p>1912 rows × 3 columns</p>\n",
       "</div>"
      ],
      "text/plain": [
       "           title_pattern  Freq  \\\n",
       "449               system   372   \n",
       "284                  use   354   \n",
       "675                model   298   \n",
       "676              network   208   \n",
       "1053           algorithm   190   \n",
       "...                  ...   ...   \n",
       "1451       video segment     4   \n",
       "1452       video sequenc     4   \n",
       "805                  way     4   \n",
       "1456        activ system     4   \n",
       "1543  algorithm approach     4   \n",
       "\n",
       "                                      transaction_index  \n",
       "449   [13, 30, 46, 48, 55, 70, 79, 87, 88, 99, 100, ...  \n",
       "284   [8, 9, 41, 53, 79, 83, 86, 89, 92, 95, 101, 11...  \n",
       "675   [8, 52, 64, 111, 151, 153, 159, 177, 183, 185,...  \n",
       "676   [85, 118, 175, 180, 200, 243, 250, 252, 266, 2...  \n",
       "1053  [3, 14, 32, 38, 75, 80, 88, 98, 155, 167, 170,...  \n",
       "...                                                 ...  \n",
       "1451                     [1001, 1200, 1938, 1976, 1979]  \n",
       "1452                     [1032, 1083, 1113, 3088, 3766]  \n",
       "805   [68, 697, 763, 2208, 2222, 2360, 2479, 2964, 3...  \n",
       "1456  [350, 571, 915, 1209, 1223, 1935, 1988, 2347, ...  \n",
       "1543                            [178, 2635, 3172, 3307]  \n",
       "\n",
       "[1912 rows x 3 columns]"
      ]
     },
     "execution_count": 3,
     "metadata": {},
     "output_type": "execute_result"
    }
   ],
   "source": [
    "titleFPs.sort_values('Freq', ascending = False)"
   ]
  },
  {
   "cell_type": "code",
   "execution_count": 4,
   "metadata": {},
   "outputs": [],
   "source": [
    "# Define the Jaccard_Dist per paper\n",
    "def Jaccard_Dist(p1_indice, p2_indice):\n",
    "    '''\n",
    "    Given transaction indice list of two patterns, p1_indice and p2_indice,\n",
    "    Output the Jaccard distance defined as 1- intersection(p1_indice, p2_indice)/union(p1_indice, p2_indice)\n",
    "    '''\n",
    "    return 1-len(set(p1_indice).intersection(p2_indice))/len(set(p1_indice).union(p2_indice))"
   ]
  },
  {
   "cell_type": "code",
   "execution_count": 5,
   "metadata": {},
   "outputs": [
    {
     "data": {
      "text/plain": [
       "0.1428571428571429"
      ]
     },
     "execution_count": 5,
     "metadata": {},
     "output_type": "execute_result"
    }
   ],
   "source": [
    "# Example of Jaccard distance betwen two title FPs\n",
    "p1 = titleFPs.iloc[0]['transaction_index']\n",
    "p2 = titleFPs.iloc[1]['transaction_index']\n",
    "Jaccard_Dist(p1, p2)"
   ]
  },
  {
   "cell_type": "code",
   "execution_count": 6,
   "metadata": {},
   "outputs": [
    {
     "name": "stdout",
     "output_type": "stream",
     "text": [
      "0.6302013158798218\n"
     ]
    }
   ],
   "source": [
    "# Jaccard Distance matrix between pariwise title FPs\n",
    "np.set_printoptions(formatter={'float': lambda x: \"{0:0.8f}\".format(x)})\n",
    "num_ind =  len(titleFPs)\n",
    "c = 0\n",
    "# J_dist is a symetric num_ind x num_ind matrix \n",
    "# and the diagnal of the matrix is the distance between the title pattern and itself,\n",
    "# therefore the diagnal of the matrix should be all 0. \n",
    "J_dist = np.zeros([num_ind,num_ind]) \n",
    "start =  time.time()\n",
    "while c < num_ind:\n",
    "    \n",
    "    p = titleFPs['transaction_index'].iloc[c]\n",
    "    # Fill the upper and lower triangle of the matrix \n",
    "    J_dist[c+1:, c] = titleFPs['transaction_index'].iloc[c+1:].apply(lambda x: Jaccard_Dist(p, x))\n",
    "    J_dist[c, c+1:] = titleFPs['transaction_index'].iloc[c+1:].apply(lambda x: Jaccard_Dist(p, x))\n",
    "    c +=1\n",
    "    \n",
    "end = time.time()\n",
    "print((end - start)/60)"
   ]
  },
  {
   "cell_type": "code",
   "execution_count": 7,
   "metadata": {},
   "outputs": [
    {
     "data": {
      "text/plain": [
       "0.11282628165369404"
      ]
     },
     "execution_count": 7,
     "metadata": {},
     "output_type": "execute_result"
    }
   ],
   "source": [
    "J_dist.mean()"
   ]
  },
  {
   "cell_type": "code",
   "execution_count": 10,
   "metadata": {},
   "outputs": [],
   "source": [
    "# Get 1D condensed array of J_dist\n",
    "J_distArray = ssd.squareform(J_dist)\n",
    "# Perform clustering using complete linkage\n",
    "Z = cluster.hierarchy.complete(J_distArray)"
   ]
  },
  {
   "cell_type": "code",
   "execution_count": 11,
   "metadata": {},
   "outputs": [
    {
     "data": {
      "text/plain": [
       "array([[0.00000000, 2.00000000, 0.00000000, 2.00000000],\n",
       "       [1.00000000, 33.00000000, 0.00000000, 2.00000000],\n",
       "       [3.00000000, 1912.00000000, 0.00000000, 3.00000000],\n",
       "       [4.00000000, 1914.00000000, 0.00000000, 4.00000000],\n",
       "       [5.00000000, 1915.00000000, 0.00000000, 5.00000000],\n",
       "       [6.00000000, 1916.00000000, 0.00000000, 6.00000000],\n",
       "       [7.00000000, 1917.00000000, 0.00000000, 7.00000000],\n",
       "       [9.00000000, 1918.00000000, 0.00000000, 8.00000000],\n",
       "       [8.00000000, 67.00000000, 0.00000000, 2.00000000],\n",
       "       [10.00000000, 1919.00000000, 0.00000000, 9.00000000],\n",
       "       [13.00000000, 1921.00000000, 0.00000000, 10.00000000],\n",
       "       [11.00000000, 172.00000000, 0.00000000, 2.00000000],\n",
       "       [12.00000000, 1817.00000000, 0.00000000, 2.00000000],\n",
       "       [14.00000000, 1922.00000000, 0.00000000, 11.00000000],\n",
       "       [15.00000000, 1925.00000000, 0.00000000, 12.00000000],\n",
       "       [18.00000000, 1926.00000000, 0.00000000, 13.00000000],\n",
       "       [16.00000000, 74.00000000, 0.00000000, 2.00000000],\n",
       "       [17.00000000, 405.00000000, 0.00000000, 2.00000000],\n",
       "       [19.00000000, 1927.00000000, 0.00000000, 14.00000000],\n",
       "       [22.00000000, 1930.00000000, 0.00000000, 15.00000000]])"
      ]
     },
     "execution_count": 11,
     "metadata": {},
     "output_type": "execute_result"
    }
   ],
   "source": [
    "# Check the first 20 iteratives of the clustering \n",
    "Z[:20]"
   ]
  },
  {
   "cell_type": "code",
   "execution_count": 12,
   "metadata": {},
   "outputs": [
    {
     "data": {
      "image/png": "[encoded data removed]",
      "text/plain": [
       "<Figure size 1800x720 with 1 Axes>"
      ]
     },
     "metadata": {},
     "output_type": "display_data"
    }
   ],
   "source": [
    "# Display full dendrogram\n",
    "plt.figure(figsize=(25, 10))\n",
    "plt.title('Hierarchical Clustering Dendrogram')\n",
    "plt.xlabel('sample index')\n",
    "plt.ylabel('distance')\n",
    "cluster.hierarchy.dendrogram(\n",
    "    Z,\n",
    "    show_leaf_counts=True,  # otherwise numbers in brackets are counts\n",
    "    leaf_rotation=90.,\n",
    "    leaf_font_size=12.,\n",
    "    color_threshold = 0.8*max(Z[:,2]),\n",
    ")\n",
    "plt.show()"
   ]
  },
  {
   "cell_type": "code",
   "execution_count": 13,
   "metadata": {},
   "outputs": [
    {
     "data": {
      "image/png": "[encoded data removed]",
      "text/plain": [
       "<Figure size 1800x720 with 1 Axes>"
      ]
     },
     "metadata": {},
     "output_type": "display_data"
    }
   ],
   "source": [
    "# Display only the top branches \n",
    "plt.figure(figsize=(25, 10))\n",
    "plt.title('Hierarchical Clustering Dendrogram')\n",
    "plt.xlabel('sample index')\n",
    "plt.ylabel('distance')\n",
    "cluster.hierarchy.dendrogram(\n",
    "    Z,\n",
    "    truncate_mode='lastp',  # show only the last p merged clusters\n",
    "    p=20,  # show only the last p merged clusters\n",
    "    show_leaf_counts=True,  # otherwise numbers in brackets are counts\n",
    "    leaf_rotation=90.,\n",
    "    leaf_font_size=12.,\n",
    "    color_threshold = 0.8*max(Z[:,2]),\n",
    "    show_contracted=True,  # to get a distribution impression in truncated branches\n",
    ")\n",
    "plt.show()"
   ]
  },
  {
   "cell_type": "code",
   "execution_count": 14,
   "metadata": {},
   "outputs": [
    {
     "data": {
      "image/png": "[encoded data removed]",
      "text/plain": [
       "<Figure size 432x288 with 1 Axes>"
      ]
     },
     "metadata": {},
     "output_type": "display_data"
    },
    {
     "name": "stdout",
     "output_type": "stream",
     "text": [
      "2\n"
     ]
    }
   ],
   "source": [
    "last = Z[-200:, 2]\n",
    "last_rev = last[::-1]\n",
    "idxs = np.arange(1, len(last) + 1)\n",
    "plt.plot(idxs, last_rev)\n",
    "\n",
    "acceleration = np.diff(last, 2)  # 2nd derivative of the distances\n",
    "acceleration_rev = acceleration[::-1]\n",
    "plt.plot(idxs[:-2] + 1, acceleration_rev)\n",
    "plt.show()\n",
    "k = acceleration_rev.argmax() + 2 \n",
    "print(k)"
   ]
  },
  {
   "cell_type": "code",
   "execution_count": 15,
   "metadata": {},
   "outputs": [
    {
     "name": "stdout",
     "output_type": "stream",
     "text": [
      "Number of Clusters:  166\n"
     ]
    },
    {
     "data": {
      "text/html": [
       "<div>\n",
       "<style scoped>\n",
       "    .dataframe tbody tr th:only-of-type {\n",
       "        vertical-align: middle;\n",
       "    }\n",
       "\n",
       "    .dataframe tbody tr th {\n",
       "        vertical-align: top;\n",
       "    }\n",
       "\n",
       "    .dataframe thead th {\n",
       "        text-align: right;\n",
       "    }\n",
       "</style>\n",
       "<table border=\"1\" class=\"dataframe\">\n",
       "  <thead>\n",
       "    <tr style=\"text-align: right;\">\n",
       "      <th></th>\n",
       "      <th>title_pattern</th>\n",
       "      <th>Freq</th>\n",
       "      <th>transaction_index</th>\n",
       "      <th>cluster_index</th>\n",
       "    </tr>\n",
       "  </thead>\n",
       "  <tbody>\n",
       "    <tr>\n",
       "      <th>0</th>\n",
       "      <td>home</td>\n",
       "      <td>5</td>\n",
       "      <td>[1977, 2509, 2601, 2602, 3078, 3126, 3854]</td>\n",
       "      <td>51</td>\n",
       "    </tr>\n",
       "    <tr>\n",
       "      <th>1</th>\n",
       "      <td>perceptu</td>\n",
       "      <td>4</td>\n",
       "      <td>[1044, 1450, 1579, 3112]</td>\n",
       "      <td>146</td>\n",
       "    </tr>\n",
       "    <tr>\n",
       "      <th>2</th>\n",
       "      <td>net</td>\n",
       "      <td>22</td>\n",
       "      <td>[45, 60, 85, 109, 118, 172, 174, 175, 178, 180...</td>\n",
       "      <td>51</td>\n",
       "    </tr>\n",
       "    <tr>\n",
       "      <th>3</th>\n",
       "      <td>grid</td>\n",
       "      <td>12</td>\n",
       "      <td>[364, 365, 375, 517, 952, 953, 1359, 1363, 212...</td>\n",
       "      <td>51</td>\n",
       "    </tr>\n",
       "    <tr>\n",
       "      <th>4</th>\n",
       "      <td>delay</td>\n",
       "      <td>11</td>\n",
       "      <td>[727, 1246, 2339, 2624, 2778, 3025, 3608, 3671...</td>\n",
       "      <td>51</td>\n",
       "    </tr>\n",
       "    <tr>\n",
       "      <th>...</th>\n",
       "      <td>...</td>\n",
       "      <td>...</td>\n",
       "      <td>...</td>\n",
       "      <td>...</td>\n",
       "    </tr>\n",
       "    <tr>\n",
       "      <th>1907</th>\n",
       "      <td>learn system</td>\n",
       "      <td>9</td>\n",
       "      <td>[70, 87, 88, 1525, 1794, 1798, 1875, 2063, 206...</td>\n",
       "      <td>51</td>\n",
       "    </tr>\n",
       "    <tr>\n",
       "      <th>1908</th>\n",
       "      <td>learn model</td>\n",
       "      <td>4</td>\n",
       "      <td>[995, 2063, 2266, 2868, 3147, 3345]</td>\n",
       "      <td>51</td>\n",
       "    </tr>\n",
       "    <tr>\n",
       "      <th>1909</th>\n",
       "      <td>learn algorithm</td>\n",
       "      <td>5</td>\n",
       "      <td>[88, 1442, 1824, 2077, 2700, 3883]</td>\n",
       "      <td>97</td>\n",
       "    </tr>\n",
       "    <tr>\n",
       "      <th>1910</th>\n",
       "      <td>learn function</td>\n",
       "      <td>4</td>\n",
       "      <td>[1093, 3349, 3352, 3645]</td>\n",
       "      <td>22</td>\n",
       "    </tr>\n",
       "    <tr>\n",
       "      <th>1911</th>\n",
       "      <td>bandwidth network</td>\n",
       "      <td>5</td>\n",
       "      <td>[404, 480, 1362, 1921, 3196, 3202]</td>\n",
       "      <td>101</td>\n",
       "    </tr>\n",
       "  </tbody>\n",
       "</table>\n",
       "<p>1912 rows × 4 columns</p>\n",
       "</div>"
      ],
      "text/plain": [
       "          title_pattern  Freq  \\\n",
       "0                  home     5   \n",
       "1              perceptu     4   \n",
       "2                   net    22   \n",
       "3                  grid    12   \n",
       "4                 delay    11   \n",
       "...                 ...   ...   \n",
       "1907       learn system     9   \n",
       "1908        learn model     4   \n",
       "1909    learn algorithm     5   \n",
       "1910     learn function     4   \n",
       "1911  bandwidth network     5   \n",
       "\n",
       "                                      transaction_index  cluster_index  \n",
       "0            [1977, 2509, 2601, 2602, 3078, 3126, 3854]             51  \n",
       "1                              [1044, 1450, 1579, 3112]            146  \n",
       "2     [45, 60, 85, 109, 118, 172, 174, 175, 178, 180...             51  \n",
       "3     [364, 365, 375, 517, 952, 953, 1359, 1363, 212...             51  \n",
       "4     [727, 1246, 2339, 2624, 2778, 3025, 3608, 3671...             51  \n",
       "...                                                 ...            ...  \n",
       "1907  [70, 87, 88, 1525, 1794, 1798, 1875, 2063, 206...             51  \n",
       "1908                [995, 2063, 2266, 2868, 3147, 3345]             51  \n",
       "1909                 [88, 1442, 1824, 2077, 2700, 3883]             97  \n",
       "1910                           [1093, 3349, 3352, 3645]             22  \n",
       "1911                 [404, 480, 1362, 1921, 3196, 3202]            101  \n",
       "\n",
       "[1912 rows x 4 columns]"
      ]
     },
     "execution_count": 15,
     "metadata": {},
     "output_type": "execute_result"
    }
   ],
   "source": [
    "# Get clusters\n",
    "max_d = 0.01\n",
    "clusters = cluster.hierarchy.fcluster(Z, max_d, criterion='distance')\n",
    "print(\"Number of Clusters: \", len(set(clusters)))\n",
    "\n",
    "# Add cluster labels to the title patterns dataset titles_FPs\n",
    "titleFPs['cluster_index'] = clusters\n",
    "titleFPs"
   ]
  },
  {
   "cell_type": "code",
   "execution_count": 16,
   "metadata": {},
   "outputs": [
    {
     "data": {
      "text/plain": [
       "cluster_index\n",
       "1         planar graph\n",
       "2        review system\n",
       "3      workflow system\n",
       "4             web base\n",
       "5           tool learn\n",
       "            ...       \n",
       "162            possibl\n",
       "163        valid model\n",
       "164             window\n",
       "165              uniqu\n",
       "166       java virtual\n",
       "Name: title_pattern, Length: 166, dtype: object"
      ]
     },
     "execution_count": 16,
     "metadata": {},
     "output_type": "execute_result"
    }
   ],
   "source": [
    "# Group the titles_FPs by cluster index and pick the 'centroid' pattern with the maximum support\n",
    "titleFPs_centroid = titleFPs.groupby(\"cluster_index\")['title_pattern'].max('Freq')\n",
    "titleFPs_centroid"
   ]
  },
  {
   "cell_type": "code",
   "execution_count": 17,
   "metadata": {},
   "outputs": [],
   "source": [
    "titlesFP2000_final = titleFPs.loc[titleFPs['title_pattern'].isin(titleFPs_centroid)].sort_values(by= 'Freq', ascending = False)"
   ]
  },
  {
   "cell_type": "code",
   "execution_count": 18,
   "metadata": {},
   "outputs": [
    {
     "data": {
      "text/html": [
       "<div>\n",
       "<style scoped>\n",
       "    .dataframe tbody tr th:only-of-type {\n",
       "        vertical-align: middle;\n",
       "    }\n",
       "\n",
       "    .dataframe tbody tr th {\n",
       "        vertical-align: top;\n",
       "    }\n",
       "\n",
       "    .dataframe thead th {\n",
       "        text-align: right;\n",
       "    }\n",
       "</style>\n",
       "<table border=\"1\" class=\"dataframe\">\n",
       "  <thead>\n",
       "    <tr style=\"text-align: right;\">\n",
       "      <th></th>\n",
       "      <th>title_pattern</th>\n",
       "      <th>Freq</th>\n",
       "      <th>transaction_index</th>\n",
       "      <th>cluster_index</th>\n",
       "    </tr>\n",
       "  </thead>\n",
       "  <tbody>\n",
       "    <tr>\n",
       "      <th>683</th>\n",
       "      <td>xml</td>\n",
       "      <td>15</td>\n",
       "      <td>[166, 662, 1305, 1446, 1534, 1545, 1634, 2088,...</td>\n",
       "      <td>51</td>\n",
       "    </tr>\n",
       "    <tr>\n",
       "      <th>1839</th>\n",
       "      <td>extend abstract</td>\n",
       "      <td>10</td>\n",
       "      <td>[57, 919, 950, 1507, 1558, 1587, 1590, 2058, 2...</td>\n",
       "      <td>130</td>\n",
       "    </tr>\n",
       "    <tr>\n",
       "      <th>989</th>\n",
       "      <td>workshop</td>\n",
       "      <td>9</td>\n",
       "      <td>[1302, 2066, 2806, 3099, 3748, 3749, 3922, 392...</td>\n",
       "      <td>100</td>\n",
       "    </tr>\n",
       "    <tr>\n",
       "      <th>1000</th>\n",
       "      <td>name</td>\n",
       "      <td>9</td>\n",
       "      <td>[159, 306, 496, 519, 1317, 1464, 1776, 3675, 4...</td>\n",
       "      <td>20</td>\n",
       "    </tr>\n",
       "    <tr>\n",
       "      <th>514</th>\n",
       "      <td>weight</td>\n",
       "      <td>9</td>\n",
       "      <td>[503, 1619, 2019, 2325, 2627, 2717, 2761, 2970...</td>\n",
       "      <td>81</td>\n",
       "    </tr>\n",
       "  </tbody>\n",
       "</table>\n",
       "</div>"
      ],
      "text/plain": [
       "        title_pattern  Freq  \\\n",
       "683               xml    15   \n",
       "1839  extend abstract    10   \n",
       "989          workshop     9   \n",
       "1000             name     9   \n",
       "514            weight     9   \n",
       "\n",
       "                                      transaction_index  cluster_index  \n",
       "683   [166, 662, 1305, 1446, 1534, 1545, 1634, 2088,...             51  \n",
       "1839  [57, 919, 950, 1507, 1558, 1587, 1590, 2058, 2...            130  \n",
       "989   [1302, 2066, 2806, 3099, 3748, 3749, 3922, 392...            100  \n",
       "1000  [159, 306, 496, 519, 1317, 1464, 1776, 3675, 4...             20  \n",
       "514   [503, 1619, 2019, 2325, 2627, 2717, 2761, 2970...             81  "
      ]
     },
     "execution_count": 18,
     "metadata": {},
     "output_type": "execute_result"
    }
   ],
   "source": [
    "titlesFP2000_final.head()"
   ]
  },
  {
   "cell_type": "code",
   "execution_count": null,
   "metadata": {},
   "outputs": [],
   "source": [
    "output_path = path\n",
    "titlesFP2000_final.to_csv(output_path + \"titlesFP2000_final.csv\", index = False)"
   ]
  },
  {
   "cell_type": "code",
   "execution_count": null,
   "metadata": {},
   "outputs": [],
   "source": [
    "# dist_clusters = Z[:,2]\n",
    "# idxs = np.arange(1, len(dist_clusters) + 1)\n",
    "# plt.plot(idxs, dist_clusters, 'b')\n",
    "# acceleration = np.diff(dist_clusters, 2)  # 2nd derivative of the distances\n",
    "# plt.plot(idxs[:-2] + 1, acceleration, 'r')\n",
    "# plt.show()\n",
    "# k = acceleration.argmax() + 2  # if idx 0 is the max of this we want 2 clusters\n",
    "# print(\"clusters:\", k)"
   ]
  },
  {
   "cell_type": "code",
   "execution_count": null,
   "metadata": {},
   "outputs": [],
   "source": []
  }
 ],
 "metadata": {
  "kernelspec": {
   "display_name": "Python 3",
   "language": "python",
   "name": "python3"
  },
  "language_info": {
   "codemirror_mode": {
    "name": "ipython",
    "version": 3
   },
   "file_extension": ".py",
   "mimetype": "text/x-python",
   "name": "python",
   "nbconvert_exporter": "python",
   "pygments_lexer": "ipython3",
   "version": "3.6.5"
  }
 },
 "nbformat": 4,
 "nbformat_minor": 2
}
