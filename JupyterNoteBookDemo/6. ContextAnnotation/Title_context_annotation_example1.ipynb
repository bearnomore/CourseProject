{
 "cells": [
  {
   "cell_type": "code",
   "execution_count": 1,
   "metadata": {},
   "outputs": [],
   "source": [
    "import pandas as pd\n",
    "path = \"E:/CS_Master_Degree_UIUC/CS410_Text_Information_system/Project/Project Submission/CourseProject/Dataset/\""
   ]
  },
  {
   "cell_type": "code",
   "execution_count": 2,
   "metadata": {},
   "outputs": [],
   "source": [
    "# Load annotation, representative title and synonyms of the example author\n",
    "definition = pd.read_csv(path + \"title_annotation_example1.csv\")\n",
    "rep_title = pd.read_csv(path + 'rep_titles_title_example1.csv')\n",
    "syn_title = pd.read_csv(path + \"syn_titles_to_title_example1.csv\")\n",
    "syn_author = pd.read_csv(path + \"syn_authors_to_title_example1.csv\")"
   ]
  },
  {
   "cell_type": "code",
   "execution_count": 3,
   "metadata": {},
   "outputs": [
    {
     "data": {
      "text/html": [
       "<div>\n",
       "<style scoped>\n",
       "    .dataframe tbody tr th:only-of-type {\n",
       "        vertical-align: middle;\n",
       "    }\n",
       "\n",
       "    .dataframe tbody tr th {\n",
       "        vertical-align: top;\n",
       "    }\n",
       "\n",
       "    .dataframe thead th {\n",
       "        text-align: right;\n",
       "    }\n",
       "</style>\n",
       "<table border=\"1\" class=\"dataframe\">\n",
       "  <thead>\n",
       "    <tr style=\"text-align: right;\">\n",
       "      <th></th>\n",
       "      <th>virtual realiti</th>\n",
       "    </tr>\n",
       "  </thead>\n",
       "  <tbody>\n",
       "    <tr>\n",
       "      <th>0</th>\n",
       "      <td>Sanjay Kumar Madria</td>\n",
       "    </tr>\n",
       "    <tr>\n",
       "      <th>1</th>\n",
       "      <td>Edwin R. Hancock</td>\n",
       "    </tr>\n",
       "    <tr>\n",
       "      <th>2</th>\n",
       "      <td>Roberto Gorrieri</td>\n",
       "    </tr>\n",
       "    <tr>\n",
       "      <th>3</th>\n",
       "      <td>analysi access</td>\n",
       "    </tr>\n",
       "    <tr>\n",
       "      <th>4</th>\n",
       "      <td>Thomas S. Huang</td>\n",
       "    </tr>\n",
       "  </tbody>\n",
       "</table>\n",
       "</div>"
      ],
      "text/plain": [
       "       virtual realiti\n",
       "0  Sanjay Kumar Madria\n",
       "1     Edwin R. Hancock\n",
       "2     Roberto Gorrieri\n",
       "3       analysi access\n",
       "4      Thomas S. Huang"
      ]
     },
     "execution_count": 3,
     "metadata": {},
     "output_type": "execute_result"
    }
   ],
   "source": [
    "definition"
   ]
  },
  {
   "cell_type": "code",
   "execution_count": 4,
   "metadata": {},
   "outputs": [
    {
     "data": {
      "text/html": [
       "<div>\n",
       "<style scoped>\n",
       "    .dataframe tbody tr th:only-of-type {\n",
       "        vertical-align: middle;\n",
       "    }\n",
       "\n",
       "    .dataframe tbody tr th {\n",
       "        vertical-align: top;\n",
       "    }\n",
       "\n",
       "    .dataframe thead th {\n",
       "        text-align: right;\n",
       "    }\n",
       "</style>\n",
       "<table border=\"1\" class=\"dataframe\">\n",
       "  <thead>\n",
       "    <tr style=\"text-align: right;\">\n",
       "      <th></th>\n",
       "      <th>virtual realiti</th>\n",
       "    </tr>\n",
       "  </thead>\n",
       "  <tbody>\n",
       "    <tr>\n",
       "      <th>0</th>\n",
       "      <td>Domain Name Based Visualization of Web Histori...</td>\n",
       "    </tr>\n",
       "    <tr>\n",
       "      <th>1</th>\n",
       "      <td>Realistic Force Feedback for Virtual Reality B...</td>\n",
       "    </tr>\n",
       "    <tr>\n",
       "      <th>2</th>\n",
       "      <td>Blackboard Segmentation Using Video Image of L...</td>\n",
       "    </tr>\n",
       "    <tr>\n",
       "      <th>3</th>\n",
       "      <td>Techniques for simulating difficult queueing p...</td>\n",
       "    </tr>\n",
       "    <tr>\n",
       "      <th>4</th>\n",
       "      <td>An approximate model for the computation of bl...</td>\n",
       "    </tr>\n",
       "  </tbody>\n",
       "</table>\n",
       "</div>"
      ],
      "text/plain": [
       "                                     virtual realiti\n",
       "0  Domain Name Based Visualization of Web Histori...\n",
       "1  Realistic Force Feedback for Virtual Reality B...\n",
       "2  Blackboard Segmentation Using Video Image of L...\n",
       "3  Techniques for simulating difficult queueing p...\n",
       "4  An approximate model for the computation of bl..."
      ]
     },
     "execution_count": 4,
     "metadata": {},
     "output_type": "execute_result"
    }
   ],
   "source": [
    "rep_title"
   ]
  },
  {
   "cell_type": "code",
   "execution_count": 5,
   "metadata": {},
   "outputs": [
    {
     "data": {
      "text/html": [
       "<div>\n",
       "<style scoped>\n",
       "    .dataframe tbody tr th:only-of-type {\n",
       "        vertical-align: middle;\n",
       "    }\n",
       "\n",
       "    .dataframe tbody tr th {\n",
       "        vertical-align: top;\n",
       "    }\n",
       "\n",
       "    .dataframe thead th {\n",
       "        text-align: right;\n",
       "    }\n",
       "</style>\n",
       "<table border=\"1\" class=\"dataframe\">\n",
       "  <thead>\n",
       "    <tr style=\"text-align: right;\">\n",
       "      <th></th>\n",
       "      <th>virtual realiti</th>\n",
       "    </tr>\n",
       "  </thead>\n",
       "  <tbody>\n",
       "    <tr>\n",
       "      <th>0</th>\n",
       "      <td>Roberto Gorrieri</td>\n",
       "    </tr>\n",
       "    <tr>\n",
       "      <th>1</th>\n",
       "      <td>Sanjay Kumar Madria</td>\n",
       "    </tr>\n",
       "    <tr>\n",
       "      <th>2</th>\n",
       "      <td>Thomas S. Huang</td>\n",
       "    </tr>\n",
       "    <tr>\n",
       "      <th>3</th>\n",
       "      <td>Bharat K. Bhargava</td>\n",
       "    </tr>\n",
       "    <tr>\n",
       "      <th>4</th>\n",
       "      <td>Bill Hancock</td>\n",
       "    </tr>\n",
       "  </tbody>\n",
       "</table>\n",
       "</div>"
      ],
      "text/plain": [
       "       virtual realiti\n",
       "0     Roberto Gorrieri\n",
       "1  Sanjay Kumar Madria\n",
       "2      Thomas S. Huang\n",
       "3   Bharat K. Bhargava\n",
       "4         Bill Hancock"
      ]
     },
     "execution_count": 5,
     "metadata": {},
     "output_type": "execute_result"
    }
   ],
   "source": [
    "syn_author"
   ]
  },
  {
   "cell_type": "code",
   "execution_count": 6,
   "metadata": {},
   "outputs": [
    {
     "data": {
      "text/html": [
       "<div>\n",
       "<style scoped>\n",
       "    .dataframe tbody tr th:only-of-type {\n",
       "        vertical-align: middle;\n",
       "    }\n",
       "\n",
       "    .dataframe tbody tr th {\n",
       "        vertical-align: top;\n",
       "    }\n",
       "\n",
       "    .dataframe thead th {\n",
       "        text-align: right;\n",
       "    }\n",
       "</style>\n",
       "<table border=\"1\" class=\"dataframe\">\n",
       "  <thead>\n",
       "    <tr style=\"text-align: right;\">\n",
       "      <th></th>\n",
       "      <th>virtual realiti</th>\n",
       "    </tr>\n",
       "  </thead>\n",
       "  <tbody>\n",
       "    <tr>\n",
       "      <th>0</th>\n",
       "      <td>receiv</td>\n",
       "    </tr>\n",
       "    <tr>\n",
       "      <th>1</th>\n",
       "      <td>diagnost</td>\n",
       "    </tr>\n",
       "    <tr>\n",
       "      <th>2</th>\n",
       "      <td>debug program</td>\n",
       "    </tr>\n",
       "    <tr>\n",
       "      <th>3</th>\n",
       "      <td>versu</td>\n",
       "    </tr>\n",
       "    <tr>\n",
       "      <th>4</th>\n",
       "      <td>analysi access</td>\n",
       "    </tr>\n",
       "  </tbody>\n",
       "</table>\n",
       "</div>"
      ],
      "text/plain": [
       "  virtual realiti\n",
       "0          receiv\n",
       "1        diagnost\n",
       "2   debug program\n",
       "3           versu\n",
       "4  analysi access"
      ]
     },
     "execution_count": 6,
     "metadata": {},
     "output_type": "execute_result"
    }
   ],
   "source": [
    "syn_title"
   ]
  },
  {
   "cell_type": "code",
   "execution_count": 7,
   "metadata": {},
   "outputs": [
    {
     "data": {
      "text/html": [
       "<div>\n",
       "<style scoped>\n",
       "    .dataframe tbody tr th:only-of-type {\n",
       "        vertical-align: middle;\n",
       "    }\n",
       "\n",
       "    .dataframe tbody tr th {\n",
       "        vertical-align: top;\n",
       "    }\n",
       "\n",
       "    .dataframe thead th {\n",
       "        text-align: right;\n",
       "    }\n",
       "</style>\n",
       "<table border=\"1\" class=\"dataframe\">\n",
       "  <thead>\n",
       "    <tr style=\"text-align: right;\">\n",
       "      <th></th>\n",
       "      <th>Title</th>\n",
       "      <th>Definition</th>\n",
       "      <th>Representative Titles</th>\n",
       "      <th>Synonym Titles</th>\n",
       "      <th>Synonym Authors</th>\n",
       "    </tr>\n",
       "  </thead>\n",
       "  <tbody>\n",
       "    <tr>\n",
       "      <th>0</th>\n",
       "      <td>virtual realiti</td>\n",
       "      <td>Sanjay Kumar Madria</td>\n",
       "      <td>Domain Name Based Visualization of Web Histori...</td>\n",
       "      <td>receiv</td>\n",
       "      <td>Roberto Gorrieri</td>\n",
       "    </tr>\n",
       "    <tr>\n",
       "      <th>1</th>\n",
       "      <td>virtual realiti</td>\n",
       "      <td>Edwin R. Hancock</td>\n",
       "      <td>Realistic Force Feedback for Virtual Reality B...</td>\n",
       "      <td>diagnost</td>\n",
       "      <td>Sanjay Kumar Madria</td>\n",
       "    </tr>\n",
       "    <tr>\n",
       "      <th>2</th>\n",
       "      <td>virtual realiti</td>\n",
       "      <td>Roberto Gorrieri</td>\n",
       "      <td>Blackboard Segmentation Using Video Image of L...</td>\n",
       "      <td>debug program</td>\n",
       "      <td>Thomas S. Huang</td>\n",
       "    </tr>\n",
       "    <tr>\n",
       "      <th>3</th>\n",
       "      <td>virtual realiti</td>\n",
       "      <td>analysi access</td>\n",
       "      <td>Techniques for simulating difficult queueing p...</td>\n",
       "      <td>versu</td>\n",
       "      <td>Bharat K. Bhargava</td>\n",
       "    </tr>\n",
       "    <tr>\n",
       "      <th>4</th>\n",
       "      <td>virtual realiti</td>\n",
       "      <td>Thomas S. Huang</td>\n",
       "      <td>An approximate model for the computation of bl...</td>\n",
       "      <td>analysi access</td>\n",
       "      <td>Bill Hancock</td>\n",
       "    </tr>\n",
       "  </tbody>\n",
       "</table>\n",
       "</div>"
      ],
      "text/plain": [
       "             Title           Definition  \\\n",
       "0  virtual realiti  Sanjay Kumar Madria   \n",
       "1  virtual realiti     Edwin R. Hancock   \n",
       "2  virtual realiti     Roberto Gorrieri   \n",
       "3  virtual realiti       analysi access   \n",
       "4  virtual realiti      Thomas S. Huang   \n",
       "\n",
       "                               Representative Titles  Synonym Titles  \\\n",
       "0  Domain Name Based Visualization of Web Histori...          receiv   \n",
       "1  Realistic Force Feedback for Virtual Reality B...        diagnost   \n",
       "2  Blackboard Segmentation Using Video Image of L...   debug program   \n",
       "3  Techniques for simulating difficult queueing p...           versu   \n",
       "4  An approximate model for the computation of bl...  analysi access   \n",
       "\n",
       "       Synonym Authors  \n",
       "0     Roberto Gorrieri  \n",
       "1  Sanjay Kumar Madria  \n",
       "2      Thomas S. Huang  \n",
       "3   Bharat K. Bhargava  \n",
       "4         Bill Hancock  "
      ]
     },
     "execution_count": 7,
     "metadata": {},
     "output_type": "execute_result"
    }
   ],
   "source": [
    "title = syn_title.columns.values[0]\n",
    "Title1_annotation = pd.DataFrame(columns = ['Title','Definition', 'Representative Titles', 'Synonym Titles', 'Synonym Authors'])\n",
    "Title1_annotation['Title'] = [title] * 5\n",
    "Title1_annotation['Definition'] = definition\n",
    "Title1_annotation['Representative Titles'] = rep_title\n",
    "Title1_annotation['Synonym Authors'] = syn_author\n",
    "Title1_annotation['Synonym Titles'] = syn_title\n",
    "Title1_annotation"
   ]
  },
  {
   "cell_type": "code",
   "execution_count": 8,
   "metadata": {},
   "outputs": [],
   "source": [
    "Title1_annotation.to_csv(path+\"context_annotation_title1.csv\", index = False)"
   ]
  },
  {
   "cell_type": "code",
   "execution_count": null,
   "metadata": {},
   "outputs": [],
   "source": []
  }
 ],
 "metadata": {
  "kernelspec": {
   "display_name": "Python 3",
   "language": "python",
   "name": "python3"
  },
  "language_info": {
   "codemirror_mode": {
    "name": "ipython",
    "version": 3
   },
   "file_extension": ".py",
   "mimetype": "text/x-python",
   "name": "python",
   "nbconvert_exporter": "python",
   "pygments_lexer": "ipython3",
   "version": "3.6.5"
  }
 },
 "nbformat": 4,
 "nbformat_minor": 2
}
