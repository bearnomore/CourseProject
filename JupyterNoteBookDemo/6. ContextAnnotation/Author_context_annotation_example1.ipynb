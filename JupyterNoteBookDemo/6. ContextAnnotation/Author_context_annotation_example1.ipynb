{
 "cells": [
  {
   "cell_type": "code",
   "execution_count": 1,
   "metadata": {},
   "outputs": [],
   "source": [
    "import pandas as pd\n",
    "path = \"E:/CS_Master_Degree_UIUC/CS410_Text_Information_system/Project/Project Submission/CourseProject/Dataset/\""
   ]
  },
  {
   "cell_type": "code",
   "execution_count": 2,
   "metadata": {},
   "outputs": [],
   "source": [
    "# Load annotation, representative title and synonyms of the example author\n",
    "definition = pd.read_csv(path + \"author_annotation_example1.csv\")\n",
    "rep_title = pd.read_csv(path + 'rep_titles_author_example1.csv')\n",
    "syn_author = pd.read_csv(path + \"coauthor_to_author_example1.csv\")\n",
    "syn_title = pd.read_csv(path + \"syn_titles_to_author_example1.csv\")"
   ]
  },
  {
   "cell_type": "code",
   "execution_count": 3,
   "metadata": {},
   "outputs": [
    {
     "data": {
      "text/html": [
       "<div>\n",
       "<style scoped>\n",
       "    .dataframe tbody tr th:only-of-type {\n",
       "        vertical-align: middle;\n",
       "    }\n",
       "\n",
       "    .dataframe tbody tr th {\n",
       "        vertical-align: top;\n",
       "    }\n",
       "\n",
       "    .dataframe thead th {\n",
       "        text-align: right;\n",
       "    }\n",
       "</style>\n",
       "<table border=\"1\" class=\"dataframe\">\n",
       "  <thead>\n",
       "    <tr style=\"text-align: right;\">\n",
       "      <th></th>\n",
       "      <th>Ralf Steinmetz</th>\n",
       "    </tr>\n",
       "  </thead>\n",
       "  <tbody>\n",
       "    <tr>\n",
       "      <th>0</th>\n",
       "      <td>Ralf Steinmetz</td>\n",
       "    </tr>\n",
       "    <tr>\n",
       "      <th>1</th>\n",
       "      <td>virtuellen</td>\n",
       "    </tr>\n",
       "    <tr>\n",
       "      <th>2</th>\n",
       "      <td>Sanjay Kumar Madria</td>\n",
       "    </tr>\n",
       "    <tr>\n",
       "      <th>3</th>\n",
       "      <td>workbench</td>\n",
       "    </tr>\n",
       "    <tr>\n",
       "      <th>4</th>\n",
       "      <td>Edwin R. Hancock</td>\n",
       "    </tr>\n",
       "  </tbody>\n",
       "</table>\n",
       "</div>"
      ],
      "text/plain": [
       "        Ralf Steinmetz\n",
       "0       Ralf Steinmetz\n",
       "1           virtuellen\n",
       "2  Sanjay Kumar Madria\n",
       "3            workbench\n",
       "4     Edwin R. Hancock"
      ]
     },
     "execution_count": 3,
     "metadata": {},
     "output_type": "execute_result"
    }
   ],
   "source": [
    "definition"
   ]
  },
  {
   "cell_type": "code",
   "execution_count": 4,
   "metadata": {},
   "outputs": [
    {
     "data": {
      "text/html": [
       "<div>\n",
       "<style scoped>\n",
       "    .dataframe tbody tr th:only-of-type {\n",
       "        vertical-align: middle;\n",
       "    }\n",
       "\n",
       "    .dataframe tbody tr th {\n",
       "        vertical-align: top;\n",
       "    }\n",
       "\n",
       "    .dataframe thead th {\n",
       "        text-align: right;\n",
       "    }\n",
       "</style>\n",
       "<table border=\"1\" class=\"dataframe\">\n",
       "  <thead>\n",
       "    <tr style=\"text-align: right;\">\n",
       "      <th></th>\n",
       "      <th>Ralf Steinmetz</th>\n",
       "    </tr>\n",
       "  </thead>\n",
       "  <tbody>\n",
       "    <tr>\n",
       "      <th>0</th>\n",
       "      <td>Domain Name Based Visualization of Web Histori...</td>\n",
       "    </tr>\n",
       "    <tr>\n",
       "      <th>1</th>\n",
       "      <td>Intelligent graphical user interface design ut...</td>\n",
       "    </tr>\n",
       "    <tr>\n",
       "      <th>2</th>\n",
       "      <td>Realistic Force Feedback for Virtual Reality B...</td>\n",
       "    </tr>\n",
       "    <tr>\n",
       "      <th>3</th>\n",
       "      <td>Alignment and Correspondence Using Singular Va...</td>\n",
       "    </tr>\n",
       "    <tr>\n",
       "      <th>4</th>\n",
       "      <td>Symbolic Graph Matching Using the EM Algorithm...</td>\n",
       "    </tr>\n",
       "  </tbody>\n",
       "</table>\n",
       "</div>"
      ],
      "text/plain": [
       "                                      Ralf Steinmetz\n",
       "0  Domain Name Based Visualization of Web Histori...\n",
       "1  Intelligent graphical user interface design ut...\n",
       "2  Realistic Force Feedback for Virtual Reality B...\n",
       "3  Alignment and Correspondence Using Singular Va...\n",
       "4  Symbolic Graph Matching Using the EM Algorithm..."
      ]
     },
     "execution_count": 4,
     "metadata": {},
     "output_type": "execute_result"
    }
   ],
   "source": [
    "rep_title"
   ]
  },
  {
   "cell_type": "code",
   "execution_count": 5,
   "metadata": {},
   "outputs": [
    {
     "data": {
      "text/html": [
       "<div>\n",
       "<style scoped>\n",
       "    .dataframe tbody tr th:only-of-type {\n",
       "        vertical-align: middle;\n",
       "    }\n",
       "\n",
       "    .dataframe tbody tr th {\n",
       "        vertical-align: top;\n",
       "    }\n",
       "\n",
       "    .dataframe thead th {\n",
       "        text-align: right;\n",
       "    }\n",
       "</style>\n",
       "<table border=\"1\" class=\"dataframe\">\n",
       "  <thead>\n",
       "    <tr style=\"text-align: right;\">\n",
       "      <th></th>\n",
       "      <th>Ralf Steinmetz</th>\n",
       "    </tr>\n",
       "  </thead>\n",
       "  <tbody>\n",
       "    <tr>\n",
       "      <th>0</th>\n",
       "      <td>Sanjay Kumar Madria</td>\n",
       "    </tr>\n",
       "    <tr>\n",
       "      <th>1</th>\n",
       "      <td>Roberto Gorrieri</td>\n",
       "    </tr>\n",
       "    <tr>\n",
       "      <th>2</th>\n",
       "      <td>Thomas S. Huang</td>\n",
       "    </tr>\n",
       "    <tr>\n",
       "      <th>3</th>\n",
       "      <td>Edwin R. Hancock</td>\n",
       "    </tr>\n",
       "    <tr>\n",
       "      <th>4</th>\n",
       "      <td>Gerald Sommer</td>\n",
       "    </tr>\n",
       "  </tbody>\n",
       "</table>\n",
       "</div>"
      ],
      "text/plain": [
       "        Ralf Steinmetz\n",
       "0  Sanjay Kumar Madria\n",
       "1     Roberto Gorrieri\n",
       "2      Thomas S. Huang\n",
       "3     Edwin R. Hancock\n",
       "4        Gerald Sommer"
      ]
     },
     "execution_count": 5,
     "metadata": {},
     "output_type": "execute_result"
    }
   ],
   "source": [
    "syn_author"
   ]
  },
  {
   "cell_type": "code",
   "execution_count": 6,
   "metadata": {},
   "outputs": [
    {
     "data": {
      "text/html": [
       "<div>\n",
       "<style scoped>\n",
       "    .dataframe tbody tr th:only-of-type {\n",
       "        vertical-align: middle;\n",
       "    }\n",
       "\n",
       "    .dataframe tbody tr th {\n",
       "        vertical-align: top;\n",
       "    }\n",
       "\n",
       "    .dataframe thead th {\n",
       "        text-align: right;\n",
       "    }\n",
       "</style>\n",
       "<table border=\"1\" class=\"dataframe\">\n",
       "  <thead>\n",
       "    <tr style=\"text-align: right;\">\n",
       "      <th></th>\n",
       "      <th>Ralf Steinmetz</th>\n",
       "    </tr>\n",
       "  </thead>\n",
       "  <tbody>\n",
       "    <tr>\n",
       "      <th>0</th>\n",
       "      <td>user interfac</td>\n",
       "    </tr>\n",
       "    <tr>\n",
       "      <th>1</th>\n",
       "      <td>process descript</td>\n",
       "    </tr>\n",
       "    <tr>\n",
       "      <th>2</th>\n",
       "      <td>virtuellen</td>\n",
       "    </tr>\n",
       "    <tr>\n",
       "      <th>3</th>\n",
       "      <td>summari</td>\n",
       "    </tr>\n",
       "    <tr>\n",
       "      <th>4</th>\n",
       "      <td>high speed</td>\n",
       "    </tr>\n",
       "  </tbody>\n",
       "</table>\n",
       "</div>"
      ],
      "text/plain": [
       "     Ralf Steinmetz\n",
       "0     user interfac\n",
       "1  process descript\n",
       "2        virtuellen\n",
       "3           summari\n",
       "4        high speed"
      ]
     },
     "execution_count": 6,
     "metadata": {},
     "output_type": "execute_result"
    }
   ],
   "source": [
    "syn_title"
   ]
  },
  {
   "cell_type": "code",
   "execution_count": 7,
   "metadata": {},
   "outputs": [
    {
     "data": {
      "text/html": [
       "<div>\n",
       "<style scoped>\n",
       "    .dataframe tbody tr th:only-of-type {\n",
       "        vertical-align: middle;\n",
       "    }\n",
       "\n",
       "    .dataframe tbody tr th {\n",
       "        vertical-align: top;\n",
       "    }\n",
       "\n",
       "    .dataframe thead th {\n",
       "        text-align: right;\n",
       "    }\n",
       "</style>\n",
       "<table border=\"1\" class=\"dataframe\">\n",
       "  <thead>\n",
       "    <tr style=\"text-align: right;\">\n",
       "      <th></th>\n",
       "      <th>Author</th>\n",
       "      <th>Definition</th>\n",
       "      <th>Representative Titles</th>\n",
       "      <th>Synonym Authors</th>\n",
       "      <th>Synonym Titles</th>\n",
       "    </tr>\n",
       "  </thead>\n",
       "  <tbody>\n",
       "    <tr>\n",
       "      <th>0</th>\n",
       "      <td>Ralf Steinmetz</td>\n",
       "      <td>Ralf Steinmetz</td>\n",
       "      <td>Domain Name Based Visualization of Web Histori...</td>\n",
       "      <td>Sanjay Kumar Madria</td>\n",
       "      <td>user interfac</td>\n",
       "    </tr>\n",
       "    <tr>\n",
       "      <th>1</th>\n",
       "      <td>Ralf Steinmetz</td>\n",
       "      <td>virtuellen</td>\n",
       "      <td>Intelligent graphical user interface design ut...</td>\n",
       "      <td>Roberto Gorrieri</td>\n",
       "      <td>process descript</td>\n",
       "    </tr>\n",
       "    <tr>\n",
       "      <th>2</th>\n",
       "      <td>Ralf Steinmetz</td>\n",
       "      <td>Sanjay Kumar Madria</td>\n",
       "      <td>Realistic Force Feedback for Virtual Reality B...</td>\n",
       "      <td>Thomas S. Huang</td>\n",
       "      <td>virtuellen</td>\n",
       "    </tr>\n",
       "    <tr>\n",
       "      <th>3</th>\n",
       "      <td>Ralf Steinmetz</td>\n",
       "      <td>workbench</td>\n",
       "      <td>Alignment and Correspondence Using Singular Va...</td>\n",
       "      <td>Edwin R. Hancock</td>\n",
       "      <td>summari</td>\n",
       "    </tr>\n",
       "    <tr>\n",
       "      <th>4</th>\n",
       "      <td>Ralf Steinmetz</td>\n",
       "      <td>Edwin R. Hancock</td>\n",
       "      <td>Symbolic Graph Matching Using the EM Algorithm...</td>\n",
       "      <td>Gerald Sommer</td>\n",
       "      <td>high speed</td>\n",
       "    </tr>\n",
       "  </tbody>\n",
       "</table>\n",
       "</div>"
      ],
      "text/plain": [
       "           Author           Definition  \\\n",
       "0  Ralf Steinmetz       Ralf Steinmetz   \n",
       "1  Ralf Steinmetz           virtuellen   \n",
       "2  Ralf Steinmetz  Sanjay Kumar Madria   \n",
       "3  Ralf Steinmetz            workbench   \n",
       "4  Ralf Steinmetz     Edwin R. Hancock   \n",
       "\n",
       "                               Representative Titles      Synonym Authors  \\\n",
       "0  Domain Name Based Visualization of Web Histori...  Sanjay Kumar Madria   \n",
       "1  Intelligent graphical user interface design ut...     Roberto Gorrieri   \n",
       "2  Realistic Force Feedback for Virtual Reality B...      Thomas S. Huang   \n",
       "3  Alignment and Correspondence Using Singular Va...     Edwin R. Hancock   \n",
       "4  Symbolic Graph Matching Using the EM Algorithm...        Gerald Sommer   \n",
       "\n",
       "     Synonym Titles  \n",
       "0     user interfac  \n",
       "1  process descript  \n",
       "2        virtuellen  \n",
       "3           summari  \n",
       "4        high speed  "
      ]
     },
     "execution_count": 7,
     "metadata": {},
     "output_type": "execute_result"
    }
   ],
   "source": [
    "author = syn_title.columns.values[0]\n",
    "Author1_annotation = pd.DataFrame(columns = ['Author','Definition', 'Representative Titles', 'Synonym Authors', 'Synonym Titles'])\n",
    "Author1_annotation['Author'] = [author] * 5\n",
    "Author1_annotation['Definition'] = definition\n",
    "Author1_annotation['Representative Titles'] = rep_title\n",
    "Author1_annotation['Synonym Authors'] = syn_author\n",
    "Author1_annotation['Synonym Titles'] = syn_title\n",
    "Author1_annotation"
   ]
  },
  {
   "cell_type": "code",
   "execution_count": null,
   "metadata": {},
   "outputs": [],
   "source": [
    "Author1_annotation.to_csv(path+\"context_annotation_author1.csv\", index =  False)"
   ]
  },
  {
   "cell_type": "code",
   "execution_count": null,
   "metadata": {},
   "outputs": [],
   "source": []
  }
 ],
 "metadata": {
  "kernelspec": {
   "display_name": "Python 3",
   "language": "python",
   "name": "python3"
  },
  "language_info": {
   "codemirror_mode": {
    "name": "ipython",
    "version": 3
   },
   "file_extension": ".py",
   "mimetype": "text/x-python",
   "name": "python",
   "nbconvert_exporter": "python",
   "pygments_lexer": "ipython3",
   "version": "3.6.5"
  }
 },
 "nbformat": 4,
 "nbformat_minor": 2
}
