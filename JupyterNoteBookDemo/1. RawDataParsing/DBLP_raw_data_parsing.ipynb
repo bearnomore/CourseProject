{
 "cells": [
  {
   "cell_type": "code",
   "execution_count": 1,
   "metadata": {},
   "outputs": [],
   "source": [
    "import numpy as np\n",
    "import xml.etree.ElementTree as ET\n",
    "import pandas as pd"
   ]
  },
  {
   "cell_type": "code",
   "execution_count": 2,
   "metadata": {},
   "outputs": [],
   "source": [
    "path = \"E:/CS_Master_Degree_UIUC/CS410_Text_Information_system/Project/Project Submission/CourseProject/Dataset/\" # File path\n",
    "tree = ET.parse(path+\"dblp50000.xml\")\n",
    "root = tree.getroot()"
   ]
  },
  {
   "cell_type": "code",
   "execution_count": 3,
   "metadata": {},
   "outputs": [
    {
     "name": "stdout",
     "output_type": "stream",
     "text": [
      "{'proceedings', 'phdthesis', 'article', 'book', 'www', 'incollection', 'inproceedings'}\n"
     ]
    }
   ],
   "source": [
    "# Check what tags the root of xml tree has\n",
    "children = root.getchildren()\n",
    "tag_list = []\n",
    "for c in children:\n",
    "    tag_list.append(c.tag)\n",
    "tags = set(tag_list)\n",
    "# Each tag is a type of publication (e.g. article, book, etc) \n",
    "# and has similar structure (e.g. having author and title of that publication).\n",
    "print(tags)"
   ]
  },
  {
   "cell_type": "code",
   "execution_count": 4,
   "metadata": {},
   "outputs": [],
   "source": [
    "# Extract all titles\n",
    "title_list = []\n",
    "for child in root:\n",
    "    # By checking the data, some publication had no author, these publications would be skipped. \n",
    "    if len(child.findall(\"author\"))==0: \n",
    "        continue\n",
    "    for title in child.findall(\"title\"):\n",
    "        title_list.append(title.text)"
   ]
  },
  {
   "cell_type": "code",
   "execution_count": 5,
   "metadata": {},
   "outputs": [],
   "source": [
    "# Extract all years\n",
    "year_list = []\n",
    "for child in root:\n",
    "    if len(child.findall(\"author\"))==0:\n",
    "        continue\n",
    "    for year in child.findall(\"year\"):\n",
    "        year_list.append(int(year.text))"
   ]
  },
  {
   "cell_type": "code",
   "execution_count": 6,
   "metadata": {},
   "outputs": [],
   "source": [
    "# Extract all authors. Some publication had more than one author, \n",
    "# all co-authors for each publication would be extracted as a string separated by a comma.\n",
    "author_list = []\n",
    "for child in root:\n",
    "    authors = []\n",
    "    if len(child.findall(\"author\"))==0:\n",
    "        continue\n",
    "    for author in child.findall(\"author\"):\n",
    "        authors.append(author.text)\n",
    "        authors_str = \", \".join(authors)\n",
    "    author_list.append(authors_str)"
   ]
  },
  {
   "cell_type": "code",
   "execution_count": 7,
   "metadata": {},
   "outputs": [
    {
     "name": "stdout",
     "output_type": "stream",
     "text": [
      "49233 49233 49233\n"
     ]
    }
   ],
   "source": [
    "# Length of title list, author list and year list should be the same \n",
    "# and less than the length of raw data as some entries with no author were not selected.\n",
    "\n",
    "print(len(title_list), len(author_list), len(year_list))"
   ]
  },
  {
   "cell_type": "code",
   "execution_count": 8,
   "metadata": {},
   "outputs": [
    {
     "data": {
      "text/html": [
       "<div>\n",
       "<style scoped>\n",
       "    .dataframe tbody tr th:only-of-type {\n",
       "        vertical-align: middle;\n",
       "    }\n",
       "\n",
       "    .dataframe tbody tr th {\n",
       "        vertical-align: top;\n",
       "    }\n",
       "\n",
       "    .dataframe thead th {\n",
       "        text-align: right;\n",
       "    }\n",
       "</style>\n",
       "<table border=\"1\" class=\"dataframe\">\n",
       "  <thead>\n",
       "    <tr style=\"text-align: right;\">\n",
       "      <th></th>\n",
       "      <th>author</th>\n",
       "      <th>title</th>\n",
       "      <th>year</th>\n",
       "    </tr>\n",
       "  </thead>\n",
       "  <tbody>\n",
       "    <tr>\n",
       "      <th>0</th>\n",
       "      <td>Frank Manola</td>\n",
       "      <td>Distributed Object Management Technology.</td>\n",
       "      <td>1988</td>\n",
       "    </tr>\n",
       "    <tr>\n",
       "      <th>1</th>\n",
       "      <td>Christoph Beierle, Udo Pletat</td>\n",
       "      <td>The Algebra of Feature Graph Specifications</td>\n",
       "      <td>1989</td>\n",
       "    </tr>\n",
       "    <tr>\n",
       "      <th>2</th>\n",
       "      <td>Ipke Wachsmuth</td>\n",
       "      <td>On Structuring Domain-Specific Knowledge</td>\n",
       "      <td>1987</td>\n",
       "    </tr>\n",
       "    <tr>\n",
       "      <th>3</th>\n",
       "      <td>Christopher Habel</td>\n",
       "      <td>Prozedurale Aspekte der Wegplanung und Wegbesc...</td>\n",
       "      <td>1987</td>\n",
       "    </tr>\n",
       "    <tr>\n",
       "      <th>4</th>\n",
       "      <td>Klaus Rehkämper</td>\n",
       "      <td>Mentale Bilder und Wegbedeutungen</td>\n",
       "      <td>1987</td>\n",
       "    </tr>\n",
       "  </tbody>\n",
       "</table>\n",
       "</div>"
      ],
      "text/plain": [
       "                          author  \\\n",
       "0                   Frank Manola   \n",
       "1  Christoph Beierle, Udo Pletat   \n",
       "2                 Ipke Wachsmuth   \n",
       "3              Christopher Habel   \n",
       "4                Klaus Rehkämper   \n",
       "\n",
       "                                               title  year  \n",
       "0          Distributed Object Management Technology.  1988  \n",
       "1        The Algebra of Feature Graph Specifications  1989  \n",
       "2           On Structuring Domain-Specific Knowledge  1987  \n",
       "3  Prozedurale Aspekte der Wegplanung und Wegbesc...  1987  \n",
       "4                  Mentale Bilder und Wegbedeutungen  1987  "
      ]
     },
     "execution_count": 8,
     "metadata": {},
     "output_type": "execute_result"
    }
   ],
   "source": [
    "# Combine all lists into dblp dataframe \n",
    "dblp = pd.DataFrame(columns = [\"author\", \"title\", \"year\"])\n",
    "dblp[\"author\"] = author_list\n",
    "dblp[\"title\"] = title_list\n",
    "dblp[\"year\"] = year_list\n",
    "\n",
    "dblp.head()"
   ]
  },
  {
   "cell_type": "code",
   "execution_count": 9,
   "metadata": {},
   "outputs": [
    {
     "data": {
      "text/html": [
       "<div>\n",
       "<style scoped>\n",
       "    .dataframe tbody tr th:only-of-type {\n",
       "        vertical-align: middle;\n",
       "    }\n",
       "\n",
       "    .dataframe tbody tr th {\n",
       "        vertical-align: top;\n",
       "    }\n",
       "\n",
       "    .dataframe thead th {\n",
       "        text-align: right;\n",
       "    }\n",
       "</style>\n",
       "<table border=\"1\" class=\"dataframe\">\n",
       "  <thead>\n",
       "    <tr style=\"text-align: right;\">\n",
       "      <th></th>\n",
       "      <th>author</th>\n",
       "      <th>title</th>\n",
       "    </tr>\n",
       "  </thead>\n",
       "  <tbody>\n",
       "    <tr>\n",
       "      <th>26</th>\n",
       "      <td>Lothar Breuer</td>\n",
       "      <td>Operator-Geometric Solutions for the M/G/k Que...</td>\n",
       "    </tr>\n",
       "    <tr>\n",
       "      <th>27</th>\n",
       "      <td>Christopher Lusena, Judy Goldsmith, Martin Mun...</td>\n",
       "      <td>Nonapproximability Results for Partially Obser...</td>\n",
       "    </tr>\n",
       "    <tr>\n",
       "      <th>82</th>\n",
       "      <td>János Komlós, Ali Shokoufandeh, Miklós Simonov...</td>\n",
       "      <td>The Regularity Lemma and Its Applications in G...</td>\n",
       "    </tr>\n",
       "    <tr>\n",
       "      <th>125</th>\n",
       "      <td>Vijay V. Vazirani</td>\n",
       "      <td>Primal-Dual Schema Based Approximation Algorit...</td>\n",
       "    </tr>\n",
       "    <tr>\n",
       "      <th>141</th>\n",
       "      <td>Isabel Fernández-Anta, Eva Millán, José-Luis P...</td>\n",
       "      <td>Adaptation and Generation in a Web-Based Lisp ...</td>\n",
       "    </tr>\n",
       "  </tbody>\n",
       "</table>\n",
       "</div>"
      ],
      "text/plain": [
       "                                                author  \\\n",
       "26                                       Lothar Breuer   \n",
       "27   Christopher Lusena, Judy Goldsmith, Martin Mun...   \n",
       "82   János Komlós, Ali Shokoufandeh, Miklós Simonov...   \n",
       "125                                  Vijay V. Vazirani   \n",
       "141  Isabel Fernández-Anta, Eva Millán, José-Luis P...   \n",
       "\n",
       "                                                 title  \n",
       "26   Operator-Geometric Solutions for the M/G/k Que...  \n",
       "27   Nonapproximability Results for Partially Obser...  \n",
       "82   The Regularity Lemma and Its Applications in G...  \n",
       "125  Primal-Dual Schema Based Approximation Algorit...  \n",
       "141  Adaptation and Generation in a Web-Based Lisp ...  "
      ]
     },
     "execution_count": 9,
     "metadata": {},
     "output_type": "execute_result"
    }
   ],
   "source": [
    "# For simplicity, we only picked transactions of year 2000\n",
    "dblp2000 = dblp.loc[dblp['year']==2000, ['author', 'title']]\n",
    "dblp2000.head()"
   ]
  },
  {
   "cell_type": "code",
   "execution_count": null,
   "metadata": {},
   "outputs": [],
   "source": [
    "output_path = 'E:/CS_Master_Degree_UIUC/CS410_Text_Information_system/Project/Project Submission/CourseProject/Dataset/'\n",
    "dblp2000.to_csv(output_path+\"DBLP2000.csv\", index = False)"
   ]
  },
  {
   "cell_type": "code",
   "execution_count": null,
   "metadata": {},
   "outputs": [],
   "source": []
  }
 ],
 "metadata": {
  "kernelspec": {
   "display_name": "Python 3",
   "language": "python",
   "name": "python3"
  },
  "language_info": {
   "codemirror_mode": {
    "name": "ipython",
    "version": 3
   },
   "file_extension": ".py",
   "mimetype": "text/x-python",
   "name": "python",
   "nbconvert_exporter": "python",
   "pygments_lexer": "ipython3",
   "version": "3.6.5"
  }
 },
 "nbformat": 4,
 "nbformat_minor": 2
}
